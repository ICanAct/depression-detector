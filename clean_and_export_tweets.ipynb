{
 "cells": [
  {
   "cell_type": "markdown",
   "metadata": {},
   "source": [
    "# function estimation using neural network"
   ]
  },
  {
   "cell_type": "code",
   "execution_count": 125,
   "metadata": {},
   "outputs": [],
   "source": [
    "import numpy as np\n",
    "import pandas as pd \n",
    "import os\n",
    "import glob"
   ]
  },
  {
   "cell_type": "code",
   "execution_count": 126,
   "metadata": {},
   "outputs": [],
   "source": [
    "from preprocess_tweets import normalizeTweet"
   ]
  },
  {
   "cell_type": "code",
   "execution_count": 127,
   "metadata": {},
   "outputs": [],
   "source": [
    "# Mode A: read in a csv file\n",
    "os.chdir(\"C:/Users/Gary/Desktop/Year 1 Sem 2/CS5246 Text Mining/Group Project/depression-detector/data/\")\n",
    "file = \"twitter test.csv\"\n",
    "df_orig = pd.read_csv(file)  "
   ]
  },
  {
   "cell_type": "code",
   "execution_count": 128,
   "metadata": {},
   "outputs": [],
   "source": [
    "# # Mode B: read in a folder of csv files\n",
    "# os.chdir(\"C:/Users/Gary/Desktop/Year 1 Sem 2/CS5246 Text Mining/Group Project/depression-detector/data/CSV Files Per Label\")\n",
    "\n",
    "# extension = 'csv'\n",
    "# all_filenames = [i for i in glob.glob('*.{}'.format(extension))]\n",
    "\n",
    "# # combine all files in the list\n",
    "# df_orig = pd.concat([pd.read_csv(f) for f in all_filenames ])"
   ]
  },
  {
   "cell_type": "code",
   "execution_count": 129,
   "metadata": {},
   "outputs": [
    {
     "data": {
      "text/html": [
       "<div>\n",
       "<style scoped>\n",
       "    .dataframe tbody tr th:only-of-type {\n",
       "        vertical-align: middle;\n",
       "    }\n",
       "\n",
       "    .dataframe tbody tr th {\n",
       "        vertical-align: top;\n",
       "    }\n",
       "\n",
       "    .dataframe thead th {\n",
       "        text-align: right;\n",
       "    }\n",
       "</style>\n",
       "<table border=\"1\" class=\"dataframe\">\n",
       "  <thead>\n",
       "    <tr style=\"text-align: right;\">\n",
       "      <th></th>\n",
       "      <th>rawContent</th>\n",
       "      <th>label</th>\n",
       "    </tr>\n",
       "  </thead>\n",
       "  <tbody>\n",
       "    <tr>\n",
       "      <th>0</th>\n",
       "      <td>I feel scared, anxious, what can I do? And may...</td>\n",
       "      <td>0</td>\n",
       "    </tr>\n",
       "    <tr>\n",
       "      <th>1</th>\n",
       "      <td>I haven't slept well for 2 days, it's like I'm...</td>\n",
       "      <td>0</td>\n",
       "    </tr>\n",
       "    <tr>\n",
       "      <th>2</th>\n",
       "      <td>I'm really worried, I want to cry.</td>\n",
       "      <td>0</td>\n",
       "    </tr>\n",
       "    <tr>\n",
       "      <th>3</th>\n",
       "      <td>always restless every night, even though I don...</td>\n",
       "      <td>0</td>\n",
       "    </tr>\n",
       "    <tr>\n",
       "      <th>4</th>\n",
       "      <td>I'm confused, I'm not feeling good lately. Eve...</td>\n",
       "      <td>0</td>\n",
       "    </tr>\n",
       "  </tbody>\n",
       "</table>\n",
       "</div>"
      ],
      "text/plain": [
       "                                          rawContent  label\n",
       "0  I feel scared, anxious, what can I do? And may...      0\n",
       "1  I haven't slept well for 2 days, it's like I'm...      0\n",
       "2                 I'm really worried, I want to cry.      0\n",
       "3  always restless every night, even though I don...      0\n",
       "4  I'm confused, I'm not feeling good lately. Eve...      0"
      ]
     },
     "execution_count": 129,
     "metadata": {},
     "output_type": "execute_result"
    }
   ],
   "source": [
    "#show first 5 rows\n",
    "df_orig.head()"
   ]
  },
  {
   "cell_type": "code",
   "execution_count": 130,
   "metadata": {},
   "outputs": [
    {
     "name": "stdout",
     "output_type": "stream",
     "text": [
      "<class 'pandas.core.frame.DataFrame'>\n",
      "RangeIndex: 100 entries, 0 to 99\n",
      "Data columns (total 2 columns):\n",
      " #   Column      Non-Null Count  Dtype \n",
      "---  ------      --------------  ----- \n",
      " 0   rawContent  100 non-null    object\n",
      " 1   label       100 non-null    int64 \n",
      "dtypes: int64(1), object(1)\n",
      "memory usage: 1.7+ KB\n"
     ]
    }
   ],
   "source": [
    "df_orig.info()"
   ]
  },
  {
   "cell_type": "code",
   "execution_count": 131,
   "metadata": {},
   "outputs": [
    {
     "data": {
      "text/plain": [
       "0    I feel scared, anxious, what can I do? And may...\n",
       "1    I haven't slept well for 2 days, it's like I'm...\n",
       "2                   I'm really worried, I want to cry.\n",
       "3    always restless every night, even though I don...\n",
       "4    I'm confused, I'm not feeling good lately. Eve...\n",
       "Name: rawContent, dtype: object"
      ]
     },
     "execution_count": 131,
     "metadata": {},
     "output_type": "execute_result"
    }
   ],
   "source": [
    "df_orig['rawContent'].head()"
   ]
  },
  {
   "cell_type": "code",
   "execution_count": 132,
   "metadata": {},
   "outputs": [
    {
     "name": "stdout",
     "output_type": "stream",
     "text": [
      "<class 'pandas.core.series.Series'>\n",
      "RangeIndex: 100 entries, 0 to 99\n",
      "Series name: rawContent\n",
      "Non-Null Count  Dtype \n",
      "--------------  ----- \n",
      "100 non-null    object\n",
      "dtypes: object(1)\n",
      "memory usage: 928.0+ bytes\n"
     ]
    }
   ],
   "source": [
    "#Extract only rawContent column for use\n",
    "df= df_orig['rawContent']\n",
    "\n",
    "df.rename(\"cleaned\")\n",
    "df.info()"
   ]
  },
  {
   "cell_type": "code",
   "execution_count": 133,
   "metadata": {},
   "outputs": [
    {
     "data": {
      "text/plain": [
       "0     I feel scared, anxious, what can I do? And may...\n",
       "1     I haven't slept well for 2 days, it's like I'm...\n",
       "2                    I'm really worried, I want to cry.\n",
       "3     always restless every night, even though I don...\n",
       "4     I'm confused, I'm not feeling good lately. Eve...\n",
       "                            ...                        \n",
       "95    It's been 3 weeks I feel really tired. The hea...\n",
       "96    Need to get rid of various kinds of thoughts t...\n",
       "97    The brain is now full of stressful thoughts. I...\n",
       "98    Seems like every time I want to sleep I'm worr...\n",
       "99    How to get rid of anxiety, please, I want to b...\n",
       "Name: rawContent, Length: 100, dtype: object"
      ]
     },
     "metadata": {},
     "output_type": "display_data"
    }
   ],
   "source": [
    "display(df)"
   ]
  },
  {
   "cell_type": "code",
   "execution_count": 134,
   "metadata": {},
   "outputs": [],
   "source": [
    "#un-labelled data\n",
    "\n",
    "# #Apply normalizeTweet function to each row\n",
    "# df = df.apply(normalizeTweet)\n",
    "\n",
    "# #show first 5 rows of cleaned data\n",
    "# display(df.head())\n",
    "\n",
    "# #append original data for comparison\n",
    "# df = pd.concat([df_orig['rawContent'],df], axis=1)\n",
    "\n",
    "# #rename columns\n",
    "# df.columns = ['originaltweet', 'cleanedtweet']\n",
    "# display(df.head())\n",
    "\n",
    "# #export to csv\n",
    "# df.to_csv('cleaned_'+ file, index=False)"
   ]
  },
  {
   "cell_type": "code",
   "execution_count": 135,
   "metadata": {},
   "outputs": [],
   "source": [
    "# #specific cleaning\n",
    "\n",
    "# #tokenize by \"|\"\n",
    "# df = df.str.split(\"|\", expand=True)\n",
    "\n",
    "# print(df[5])\n",
    "\n"
   ]
  },
  {
   "cell_type": "code",
   "execution_count": 136,
   "metadata": {},
   "outputs": [],
   "source": [
    "# #only take fifth column\n",
    "# df = df[5]\n",
    "\n",
    "# display(df)"
   ]
  },
  {
   "cell_type": "code",
   "execution_count": 137,
   "metadata": {},
   "outputs": [
    {
     "data": {
      "text/plain": [
       "0    I feel scared anxious what can I do and may my...\n",
       "1    I havent slept well for two days its like im r...\n",
       "2                      im really worried I want to cry\n",
       "3    always restless every night even though I dont...\n",
       "4    im confused im not feeling good lately every t...\n",
       "Name: rawContent, dtype: object"
      ]
     },
     "metadata": {},
     "output_type": "display_data"
    },
    {
     "data": {
      "text/html": [
       "<div>\n",
       "<style scoped>\n",
       "    .dataframe tbody tr th:only-of-type {\n",
       "        vertical-align: middle;\n",
       "    }\n",
       "\n",
       "    .dataframe tbody tr th {\n",
       "        vertical-align: top;\n",
       "    }\n",
       "\n",
       "    .dataframe thead th {\n",
       "        text-align: right;\n",
       "    }\n",
       "</style>\n",
       "<table border=\"1\" class=\"dataframe\">\n",
       "  <thead>\n",
       "    <tr style=\"text-align: right;\">\n",
       "      <th></th>\n",
       "      <th>originaltweet</th>\n",
       "      <th>cleanedtweet</th>\n",
       "      <th>label</th>\n",
       "    </tr>\n",
       "  </thead>\n",
       "  <tbody>\n",
       "    <tr>\n",
       "      <th>0</th>\n",
       "      <td>I feel scared, anxious, what can I do? And may...</td>\n",
       "      <td>I feel scared anxious what can I do and may my...</td>\n",
       "      <td>0</td>\n",
       "    </tr>\n",
       "    <tr>\n",
       "      <th>1</th>\n",
       "      <td>I haven't slept well for 2 days, it's like I'm...</td>\n",
       "      <td>I havent slept well for two days its like im r...</td>\n",
       "      <td>0</td>\n",
       "    </tr>\n",
       "    <tr>\n",
       "      <th>2</th>\n",
       "      <td>I'm really worried, I want to cry.</td>\n",
       "      <td>im really worried I want to cry</td>\n",
       "      <td>0</td>\n",
       "    </tr>\n",
       "    <tr>\n",
       "      <th>3</th>\n",
       "      <td>always restless every night, even though I don...</td>\n",
       "      <td>always restless every night even though I dont...</td>\n",
       "      <td>0</td>\n",
       "    </tr>\n",
       "    <tr>\n",
       "      <th>4</th>\n",
       "      <td>I'm confused, I'm not feeling good lately. Eve...</td>\n",
       "      <td>im confused im not feeling good lately every t...</td>\n",
       "      <td>0</td>\n",
       "    </tr>\n",
       "  </tbody>\n",
       "</table>\n",
       "</div>"
      ],
      "text/plain": [
       "                                       originaltweet  \\\n",
       "0  I feel scared, anxious, what can I do? And may...   \n",
       "1  I haven't slept well for 2 days, it's like I'm...   \n",
       "2                 I'm really worried, I want to cry.   \n",
       "3  always restless every night, even though I don...   \n",
       "4  I'm confused, I'm not feeling good lately. Eve...   \n",
       "\n",
       "                                        cleanedtweet  label  \n",
       "0  I feel scared anxious what can I do and may my...      0  \n",
       "1  I havent slept well for two days its like im r...      0  \n",
       "2                    im really worried I want to cry      0  \n",
       "3  always restless every night even though I dont...      0  \n",
       "4  im confused im not feeling good lately every t...      0  "
      ]
     },
     "metadata": {},
     "output_type": "display_data"
    }
   ],
   "source": [
    "#labelled data\n",
    "\n",
    "#Apply normalizeTweet function to each row\n",
    "df = df.apply(normalizeTweet)\n",
    "\n",
    "#show first 5 rows of cleaned data\n",
    "display(df.head())\n",
    "\n",
    "#append original data for comparison\n",
    "df = pd.concat([df_orig['rawContent'],df,df_orig['label']], axis=1)\n",
    "\n",
    "#rename columns\n",
    "df.columns = ['originaltweet', 'cleanedtweet', 'label']\n",
    "display(df.head())\n",
    "\n",
    "#export to csv\n",
    "df.to_csv('cleaned_'+ file, index=False)"
   ]
  },
  {
   "attachments": {},
   "cell_type": "markdown",
   "metadata": {},
   "source": [
    "General Pre-Processing Steps:\n",
    "- lowercase all\n",
    "- Remove newlines\n",
    "- Remove URLs\n",
    "- Remove punctuation (for twitter only)\n",
    "- Replace 2 or more spaces with 1 space\n",
    "- Replace all instances of 3 or more letters with 2 letters\n",
    "- Remove all instances of 3 or more repeated subsequent words (ex: \"I love love love love you\")\n",
    "- Remove html tags (don't think there is any)\n",
    "- Remove non-ascii characters\n",
    "- Handling Bullet Points or similar (lists, tables etc.)\n",
    "- Replace numbers with \\<num\\> token\n",
    "- Detect foreign language and remove the entire item\n",
    "\n",
    "\n",
    "Twitter Specific Pre-Processing Steps:\n",
    "- Remove RT\n",
    "- Remove @mentions and usernames for privacy\n",
    "- Remove hashtags (remove hashtags (both symbol and respective word) for hashtags used in querying) (keep hashtags not used for querying (remove only the hashtag symbol but keep the word))\n",
    "\n",
    "Reddit Specific Pre-Processing Steps:\n",
    "- Only keep english text (twitter data was already filtered to english, reddit wasn't)\n",
    "- Remove user mentions"
   ]
  }
 ],
 "metadata": {
  "kernelspec": {
   "display_name": "Python 3",
   "language": "python",
   "name": "python3"
  },
  "language_info": {
   "codemirror_mode": {
    "name": "ipython",
    "version": 3
   },
   "file_extension": ".py",
   "mimetype": "text/x-python",
   "name": "python",
   "nbconvert_exporter": "python",
   "pygments_lexer": "ipython3",
   "version": "3.10.6"
  },
  "vscode": {
   "interpreter": {
    "hash": "369f2c481f4da34e4445cda3fffd2e751bd1c4d706f27375911949ba6bb62e1c"
   }
  }
 },
 "nbformat": 4,
 "nbformat_minor": 2
}
