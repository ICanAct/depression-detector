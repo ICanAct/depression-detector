{
 "cells": [
  {
   "cell_type": "code",
   "execution_count": 1,
   "metadata": {},
   "outputs": [],
   "source": [
    "import fasttext\n",
    "import pandas as pd\n",
    "from tqdm.notebook import tqdm_notebook"
   ]
  },
  {
   "cell_type": "code",
   "execution_count": 2,
   "metadata": {},
   "outputs": [],
   "source": [
    "reddit_dataframe = pd.read_csv('/Users/krishnavyas/Desktop/NUS/Text Mining/project/depression-detector/datasets/cleaned_reddit_all.csv')"
   ]
  },
  {
   "cell_type": "code",
   "execution_count": 3,
   "metadata": {},
   "outputs": [],
   "source": [
    "cleaned_reddit = reddit_dataframe['cleanedreddit'].tolist()"
   ]
  },
  {
   "cell_type": "code",
   "execution_count": 4,
   "metadata": {},
   "outputs": [
    {
     "data": {
      "application/vnd.jupyter.widget-view+json": {
       "model_id": "c3d918184d6146c7aa17751aea496ce3",
       "version_major": 2,
       "version_minor": 0
      },
      "text/plain": [
       "0it [00:00, ?it/s]"
      ]
     },
     "metadata": {},
     "output_type": "display_data"
    },
    {
     "name": "stdout",
     "output_type": "stream",
     "text": [
      "Done\n"
     ]
    }
   ],
   "source": [
    "# open file in write mode\n",
    "with open(r'/Users/krishnavyas/Desktop/NUS/Text Mining/project/depression-detector/datasets/reddit_data.txt', 'w') as fp:\n",
    "    for i, item in tqdm_notebook(enumerate(cleaned_reddit)):\n",
    "        # write each item on a new line\n",
    "        fp.write(\"%s\\n\" % item)\n",
    "    print('Done')"
   ]
  },
  {
   "cell_type": "code",
   "execution_count": 5,
   "metadata": {},
   "outputs": [
    {
     "name": "stderr",
     "output_type": "stream",
     "text": [
      "Read 18M words\n",
      "Number of words:  26918\n",
      "Number of labels: 0\n",
      "Progress: 100.0% words/sec/thread:   26079 lr:  0.000000 avg.loss:  1.125451 ETA:   0h 0m 0s  1.0% words/sec/thread:   31096 lr:  0.049524 avg.loss:  2.130383 ETA:   0h16m34s 0.047988 avg.loss:  2.166265 ETA:   0h16m12s  5.4% words/sec/thread:   31304 lr:  0.047276 avg.loss:  2.167560 ETA:   0h15m42s  6.0% words/sec/thread:   30508 lr:  0.046992 avg.loss:  2.167527 ETA:   0h16m 1s  7.8% words/sec/thread:   28369 lr:  0.046093 avg.loss:  2.159779 ETA:   0h16m54s 2.160965 ETA:   0h16m49s  9.9% words/sec/thread:   28155 lr:  0.045053 avg.loss:  2.168794 ETA:   0h16m39s 11.1% words/sec/thread:   28513 lr:  0.044455 avg.loss:  2.171895 ETA:   0h16m13s 11.7% words/sec/thread:   28604 lr:  0.044129 avg.loss:  2.175450 ETA:   0h16m 3sm53s 15.5% words/sec/thread:   21800 lr:  0.042252 avg.loss:  2.194691 ETA:   0h20m10s 0.042077 avg.loss:  2.196073 ETA:   0h20m26s 16.6% words/sec/thread:   20068 lr:  0.041689 avg.loss:  2.191666 ETA:   0h21m37s0h22m 2s17.7% words/sec/thread:   19076 lr:  0.041149 avg.loss:  2.194997 ETA:   0h22m26s  18456 lr:  0.040370 avg.loss:  2.199051 ETA:   0h22m45s 20.6% words/sec/thread:   18622 lr:  0.039679 avg.loss:  2.200174 ETA:   0h22m10s 22.6% words/sec/thread:   19167 lr:  0.038717 avg.loss:  2.201392 ETA:   0h21m 1s 24.3% words/sec/thread:   19518 lr:  0.037859 avg.loss:  2.195930 ETA:   0h20m11s 26.1% words/sec/thread:   19772 lr:  0.036975 avg.loss:  2.190980 ETA:   0h19m27s 27.0% words/sec/thread:   20042 lr:  0.036512 avg.loss:  2.187277 ETA:   0h18m57s  20057 lr:  0.036469 avg.loss:  2.187031 ETA:   0h18m55s 0.030648 avg.loss:  2.175635 ETA:   0h14m 6ss 48.0% words/sec/thread:   24154 lr:  0.026017 avg.loss:  1.987467 ETA:   0h11m12s 48.9% words/sec/thread:   24281 lr:  0.025533 avg.loss:  1.955270 ETA:   0h10m56s 69.2% words/sec/thread:   25902 lr:  0.015383 avg.loss:  1.485734 ETA:   0h 6m10s 71.5% words/sec/thread:   26032 lr:  0.014259 avg.loss:  1.449019 ETA:   0h 5m42s 71.7% words/sec/thread:   26004 lr:  0.014167 avg.loss:  1.446228 ETA:   0h 5m40s 71.9% words/sec/thread:   25969 lr:  0.014073 avg.loss:  1.443295 ETA:   0h 5m38s 74.8% words/sec/thread:   25724 lr:  0.012592 avg.loss:  1.399516 ETA:   0h 5m 5s 75.3% words/sec/thread:   25663 lr:  0.012334 avg.loss:  1.392307 ETA:   0h 5m 0s 76.7% words/sec/thread:   25537 lr:  0.011626 avg.loss:  1.372321 ETA:   0h 4m44s25642 lr:  0.009601 avg.loss:  1.319046 ETA:   0h 3m53sh 2m18s 88.6% words/sec/thread:   25897 lr:  0.005698 avg.loss:  1.227809 ETA:   0h 2m17s 89.4% words/sec/thread:   25875 lr:  0.005322 avg.loss:  1.219755 ETA:   0h 2m 8s 89.7% words/sec/thread:   25873 lr:  0.005160 avg.loss:  1.216397 ETA:   0h 2m 4s 91.0% words/sec/thread:   25885 lr:  0.004509 avg.loss:  1.203670 ETA:   0h 1m48s  25886 lr:  0.003791 avg.loss:  1.190100 ETA:   0h 1m31s 98.6% words/sec/thread:   26022 lr:  0.000714 avg.loss:  1.136948 ETA:   0h 0m17s 98.6% words/sec/thread:   26010 lr:  0.000682 avg.loss:  1.136467 ETA:   0h 0m16s 99.1% words/sec/thread:   26019 lr:  0.000470 avg.loss:  1.133068 ETA:   0h 0m11s\n"
     ]
    }
   ],
   "source": [
    "model = fasttext.train_unsupervised('/Users/krishnavyas/Desktop/NUS/Text Mining/project/depression-detector/datasets/reddit_data.txt',model='skipgram', minn=2, maxn=5, dim=300)"
   ]
  },
  {
   "cell_type": "code",
   "execution_count": 7,
   "metadata": {},
   "outputs": [],
   "source": [
    "model.save_model(\"fasttext_reddit_300dim.bin\")"
   ]
  },
  {
   "cell_type": "code",
   "execution_count": 8,
   "metadata": {},
   "outputs": [],
   "source": [
    "# read the model\n",
    "\n",
    "model = fasttext.load_model(\"fasttext_reddit_300dim.bin\")"
   ]
  },
  {
   "cell_type": "code",
   "execution_count": 9,
   "metadata": {},
   "outputs": [],
   "source": [
    "# get the word vector\n",
    "temp = \"im not feeling well.\"\n",
    "\n",
    "vecs = model.get_sentence_vector(temp)"
   ]
  },
  {
   "cell_type": "code",
   "execution_count": 17,
   "metadata": {},
   "outputs": [],
   "source": [
    "vecs = model.get_word_vector(temp[:2])"
   ]
  },
  {
   "cell_type": "code",
   "execution_count": 18,
   "metadata": {},
   "outputs": [
    {
     "data": {
      "text/plain": [
       "(300,)"
      ]
     },
     "execution_count": 18,
     "metadata": {},
     "output_type": "execute_result"
    }
   ],
   "source": [
    "vecs.shape"
   ]
  },
  {
   "cell_type": "code",
   "execution_count": 20,
   "metadata": {},
   "outputs": [
    {
     "data": {
      "text/plain": [
       "'im'"
      ]
     },
     "execution_count": 20,
     "metadata": {},
     "output_type": "execute_result"
    }
   ],
   "source": [
    "temp[:2]"
   ]
  },
  {
   "cell_type": "code",
   "execution_count": null,
   "metadata": {},
   "outputs": [],
   "source": []
  }
 ],
 "metadata": {
  "kernelspec": {
   "display_name": "cs5260",
   "language": "python",
   "name": "python3"
  },
  "language_info": {
   "codemirror_mode": {
    "name": "ipython",
    "version": 3
   },
   "file_extension": ".py",
   "mimetype": "text/x-python",
   "name": "python",
   "nbconvert_exporter": "python",
   "pygments_lexer": "ipython3",
   "version": "3.10.8"
  },
  "orig_nbformat": 4,
  "vscode": {
   "interpreter": {
    "hash": "f61bccc06d3ceabb6d8779a54bc48ae00162aa493f776e5dee077c519e2d73a2"
   }
  }
 },
 "nbformat": 4,
 "nbformat_minor": 2
}
