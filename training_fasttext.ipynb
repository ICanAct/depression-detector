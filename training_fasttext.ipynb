{
 "cells": [
  {
   "cell_type": "code",
   "execution_count": 14,
   "metadata": {},
   "outputs": [],
   "source": [
    "import fasttext\n",
    "import pandas as pd\n",
    "from tqdm.notebook import tqdm_notebook"
   ]
  },
  {
   "cell_type": "code",
   "execution_count": 16,
   "metadata": {},
   "outputs": [],
   "source": [
    "reddit_dataframe = pd.read_csv('/Users/krishnavyas/Desktop/NUS/text_mining/project/depression-detector/depression_detector/datasets/cleaned_reddit_all.csv')"
   ]
  },
  {
   "cell_type": "code",
   "execution_count": 17,
   "metadata": {},
   "outputs": [],
   "source": [
    "cleaned_reddit = reddit_dataframe['cleanedreddit'].str.lower().tolist()"
   ]
  },
  {
   "cell_type": "code",
   "execution_count": 18,
   "metadata": {},
   "outputs": [
    {
     "data": {
      "text/plain": [
       "'i am not diagnosed as having anxiety but i have a few questionscan anxiety cause electric shocks in the face i have over the day usually slight tingling and in the evening these electric shocks in my face currently only once on the evening i also feel like my hair is very sensitive like there is constantly something in my hair or something brushed a part of it i tend to worry very much over health stuff and stuff in general also jumping to worse case ideas like i also tend to think about stuff of the past over and over again which i can not impact or change now like i made that wrong or could do that better or what does that person think and so on also some very trivial things the pain is not heavy rather annoying and it was worse around three months ago i dont feel stressed my work is very relaxed right now i am a programmer but my facial tingling shocks were significantly better in my two vacations in the last half year i also have a tmj disorder and it is stressed my out because it is on one side getting better but on the other getting worse for the last few yearsput my other tmj related issues into this post here worried about possible trigeminal neuralgia trigeminalneuralgia redditcom x200b sorry for posting here i am just kinda anxious i was at a neurologist and he basically said there is nothing to worry about although he didnt really look much onto my nerve except some measures my other doc which is responsible for the tmj treatment said there could be a neurological issue and i should visit a special neurologist in a few weeks if it doesnt get better'"
      ]
     },
     "execution_count": 18,
     "metadata": {},
     "output_type": "execute_result"
    }
   ],
   "source": [
    "cleaned_reddit[0]"
   ]
  },
  {
   "cell_type": "code",
   "execution_count": 20,
   "metadata": {},
   "outputs": [
    {
     "data": {
      "application/vnd.jupyter.widget-view+json": {
       "model_id": "04e1c569c01b4737869d998e30802646",
       "version_major": 2,
       "version_minor": 0
      },
      "text/plain": [
       "0it [00:00, ?it/s]"
      ]
     },
     "metadata": {},
     "output_type": "display_data"
    },
    {
     "name": "stdout",
     "output_type": "stream",
     "text": [
      "Done\n"
     ]
    }
   ],
   "source": [
    "# open file in write mode\n",
    "with open(r'/Users/krishnavyas/Desktop/NUS/text_mining/project/depression-detector/depression_detector/datasets/reddit_data.txt', 'w') as fp:\n",
    "    for i, item in tqdm_notebook(enumerate(cleaned_reddit)):\n",
    "        # write each item on a new line\n",
    "        fp.write(\"%s\\n\" % item)\n",
    "    print('Done')"
   ]
  },
  {
   "cell_type": "code",
   "execution_count": 21,
   "metadata": {},
   "outputs": [
    {
     "name": "stderr",
     "output_type": "stream",
     "text": [
      "Read 18M words\n",
      "Number of words:  26892\n",
      "Number of labels: 0\n",
      "Progress: 100.0% words/sec/thread:   33026 lr:  0.000000 avg.loss:  1.133248 ETA:   0h 0m 0s  2.0% words/sec/thread:   24218 lr:  0.049019 avg.loss:  2.157060 ETA:   0h21m 3s  29806 lr:  0.042631 avg.loss:  2.193373 ETA:   0h14m53s 26.8% words/sec/thread:   31024 lr:  0.036591 avg.loss:  2.191037 ETA:   0h12m16s% words/sec/thread:   31303 lr:  0.033230 avg.loss:  2.178180 ETA:   0h11m 2s31275 lr:  0.032984 avg.loss:  2.177818 ETA:   0h10m58s  31931 lr:  0.028354 avg.loss:  2.174217 ETA:   0h 9m14s 9m 5s 49.8% words/sec/thread:   31513 lr:  0.025093 avg.loss:  1.937730 ETA:   0h 8m17s  0h 8m 7s 51.2% words/sec/thread:   31301 lr:  0.024416 avg.loss:  1.896266 ETA:   0h 8m 7s 51.3% words/sec/thread:   31295 lr:  0.024334 avg.loss:  1.891304 ETA:   0h 8m 5s 51.8% words/sec/thread:   31285 lr:  0.024083 avg.loss:  1.876645 ETA:   0h 8m 0s 52.9% words/sec/thread:   31271 lr:  0.023574 avg.loss:  1.848086 ETA:   0h 7m50s avg.loss:  1.842009 ETA:   0h 7m48s7m37s 54.5% words/sec/thread:   31281 lr:  0.022773 avg.loss:  1.804622 ETA:   0h 7m34s 87.8% words/sec/thread:   32961 lr:  0.006095 avg.loss:  1.243648 ETA:   0h 1m55s 96.8% words/sec/thread:   33086 lr:  0.001605 avg.loss:  1.159590 ETA:   0h 0m30s 97.3% words/sec/thread:   33080 lr:  0.001345 avg.loss:  1.155391 ETA:   0h 0m25s 99.0% words/sec/thread:   33034 lr:  0.000499 avg.loss:  1.141426 ETA:   0h 0m 9s\n"
     ]
    }
   ],
   "source": [
    "model = fasttext.train_unsupervised('/Users/krishnavyas/Desktop/NUS/text_mining/project/depression-detector/depression_detector/datasets/reddit_data.txt',model='skipgram', minn=2, maxn=8, dim=300)"
   ]
  },
  {
   "cell_type": "code",
   "execution_count": 22,
   "metadata": {},
   "outputs": [],
   "source": [
    "model.save_model(\"fasttext_reddit_300dim.bin\")"
   ]
  },
  {
   "cell_type": "code",
   "execution_count": 23,
   "metadata": {},
   "outputs": [],
   "source": [
    "import gensim\n",
    "\n",
    "model = gensim.models.fasttext.load_facebook_vectors('/Users/krishnavyas/Desktop/NUS/text_mining/project/depression-detector/fasttext_reddit_300dim.bin')"
   ]
  },
  {
   "cell_type": "code",
   "execution_count": 2,
   "metadata": {},
   "outputs": [
    {
     "data": {
      "text/plain": [
       "<bound method KeyedVectors.word_vec of <gensim.models.fasttext.FastTextKeyedVectors object at 0x7f9600816bf0>>"
      ]
     },
     "execution_count": 2,
     "metadata": {},
     "output_type": "execute_result"
    }
   ],
   "source": [
    "model.word_vec"
   ]
  },
  {
   "cell_type": "code",
   "execution_count": 27,
   "metadata": {},
   "outputs": [
    {
     "name": "stderr",
     "output_type": "stream",
     "text": [
      "/var/folders/jc/qr6wvn915kg2y8zqz3ln90xr0000gn/T/ipykernel_1302/1510896883.py:9: DeprecationWarning: Call to deprecated `word_vec` (Use get_vector instead).\n",
      "  embeds.append(model.word_vec(key))\n"
     ]
    }
   ],
   "source": [
    "import numpy as np\n",
    "model.key_to_index\n",
    "vocab = []\n",
    "embeds = []\n",
    "\n",
    "\n",
    "for key, value in model.key_to_index.items():\n",
    "    vocab.append(key)\n",
    "    embeds.append(model.word_vec(key))"
   ]
  },
  {
   "cell_type": "code",
   "execution_count": 31,
   "metadata": {},
   "outputs": [],
   "source": [
    "vocab_npa = np.array(vocab)\n",
    "embs_npa = np.array(embeds)"
   ]
  },
  {
   "cell_type": "code",
   "execution_count": 32,
   "metadata": {},
   "outputs": [
    {
     "name": "stdout",
     "output_type": "stream",
     "text": [
      "['<pad>' '<unk>' 'i' 'to' 'and' 'my' 'the' 'a' 'of' 'have']\n"
     ]
    }
   ],
   "source": [
    "vocab_npa = np.insert(vocab_npa, 0, '<pad>')\n",
    "vocab_npa = np.insert(vocab_npa, 1, '<unk>')\n",
    "print(vocab_npa[:10])\n",
    "\n",
    "pad_emb_npa = np.zeros((1,embs_npa.shape[1])) \n",
    "unk_emb_npa = np.mean(embs_npa,axis=0,keepdims=True) \n",
    "#insert embeddings for pad and unk tokens at top of embs_npa.\n",
    "embs_npa = np.vstack((pad_emb_npa,unk_emb_npa,embs_npa))"
   ]
  },
  {
   "cell_type": "code",
   "execution_count": 37,
   "metadata": {},
   "outputs": [],
   "source": [
    "with open('vocab_npa.npy','wb') as f:\n",
    "    np.save(f,vocab_npa)\n",
    "\n",
    "with open('embs_npa.npy','wb') as f:\n",
    "    np.save(f,embs_npa)"
   ]
  }
 ],
 "metadata": {
  "kernelspec": {
   "display_name": "cs5260",
   "language": "python",
   "name": "python3"
  },
  "language_info": {
   "codemirror_mode": {
    "name": "ipython",
    "version": 3
   },
   "file_extension": ".py",
   "mimetype": "text/x-python",
   "name": "python",
   "nbconvert_exporter": "python",
   "pygments_lexer": "ipython3",
   "version": "3.10.8"
  },
  "orig_nbformat": 4,
  "vscode": {
   "interpreter": {
    "hash": "f61bccc06d3ceabb6d8779a54bc48ae00162aa493f776e5dee077c519e2d73a2"
   }
  }
 },
 "nbformat": 4,
 "nbformat_minor": 2
}
