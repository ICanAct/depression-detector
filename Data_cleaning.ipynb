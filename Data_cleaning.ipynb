{
 "cells": [
  {
   "cell_type": "code",
   "execution_count": 1,
   "metadata": {},
   "outputs": [],
   "source": [
    "import pandas as pd"
   ]
  },
  {
   "cell_type": "code",
   "execution_count": 2,
   "metadata": {},
   "outputs": [
    {
     "name": "stderr",
     "output_type": "stream",
     "text": [
      "/var/folders/jc/qr6wvn915kg2y8zqz3ln90xr0000gn/T/ipykernel_4852/4275685166.py:1: DtypeWarning: Columns (2) have mixed types. Specify dtype option on import or set low_memory=False.\n",
      "  train_frame = pd.read_csv('/Users/krishnavyas/Desktop/NUS/text_mining/project/depression-detector/datasets/train_reddit.csv', usecols=['cleanedreddit', 'label'])\n"
     ]
    }
   ],
   "source": [
    "train_frame = pd.read_csv('/Users/krishnavyas/Desktop/NUS/text_mining/project/depression-detector/datasets/train_reddit.csv', usecols=['cleanedreddit', 'label'])"
   ]
  },
  {
   "cell_type": "code",
   "execution_count": 3,
   "metadata": {},
   "outputs": [],
   "source": [
    "train_frame.dropna(inplace=True)"
   ]
  },
  {
   "cell_type": "code",
   "execution_count": 4,
   "metadata": {},
   "outputs": [],
   "source": [
    "train_frame['label_new'] = train_frame['label'].astype(str).str[0]"
   ]
  },
  {
   "cell_type": "code",
   "execution_count": 7,
   "metadata": {},
   "outputs": [],
   "source": [
    "labels = ['0', '1', '2', '3', '4', '5']\n",
    "\n",
    "train_frame = train_frame[train_frame['label_new'].isin(labels)]"
   ]
  },
  {
   "cell_type": "code",
   "execution_count": 9,
   "metadata": {},
   "outputs": [],
   "source": [
    "train_frame.drop(columns=['label'], inplace=True)\n",
    "train_frame.rename(columns={'label_new': 'label'}, inplace=True)\n",
    "train_frame['label'] = train_frame['label'].astype('int32')"
   ]
  },
  {
   "cell_type": "code",
   "execution_count": 13,
   "metadata": {},
   "outputs": [],
   "source": [
    "train_frame.to_csv('/Users/krishnavyas/Desktop/NUS/text_mining/project/depression-detector/datasets/train_reddit.csv', index=False)"
   ]
  }
 ],
 "metadata": {
  "kernelspec": {
   "display_name": "cs5260",
   "language": "python",
   "name": "python3"
  },
  "language_info": {
   "codemirror_mode": {
    "name": "ipython",
    "version": 3
   },
   "file_extension": ".py",
   "mimetype": "text/x-python",
   "name": "python",
   "nbconvert_exporter": "python",
   "pygments_lexer": "ipython3",
   "version": "3.10.8"
  },
  "orig_nbformat": 4
 },
 "nbformat": 4,
 "nbformat_minor": 2
}
