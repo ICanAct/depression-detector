{
 "cells": [
  {
   "cell_type": "markdown",
   "metadata": {},
   "source": [
    "# function estimation using neural network"
   ]
  },
  {
   "cell_type": "code",
   "execution_count": 1,
   "metadata": {},
   "outputs": [],
   "source": [
    "import numpy as np\n",
    "import pandas as pd \n",
    "import os\n",
    "import glob"
   ]
  },
  {
   "cell_type": "code",
   "execution_count": 2,
   "metadata": {},
   "outputs": [],
   "source": [
    "from preprocess_tweets import normalizeTweet"
   ]
  },
  {
   "cell_type": "code",
   "execution_count": 3,
   "metadata": {},
   "outputs": [],
   "source": [
    "# Mode A: read in a csv file\n",
    "os.chdir(\"C:/Users/Gary/Desktop/Year 1 Sem 2/CS5246 Text Mining/Group Project/depression-detector/data/\")\n",
    "file = \"reddit_neutral_all.csv\"\n",
    "df_orig = pd.read_csv(file)  "
   ]
  },
  {
   "cell_type": "code",
   "execution_count": 4,
   "metadata": {},
   "outputs": [],
   "source": [
    "# # Mode B: read in a folder of csv files\n",
    "# os.chdir(\"C:/Users/Gary/Desktop/Year 1 Sem 2/CS5246 Text Mining/Group Project/depression-detector/data/CSV Files Per Label\")\n",
    "\n",
    "# extension = 'csv'\n",
    "# all_filenames = [i for i in glob.glob('*.{}'.format(extension))]\n",
    "\n",
    "# # combine all files in the list\n",
    "# df_orig = pd.concat([pd.read_csv(f) for f in all_filenames ])"
   ]
  },
  {
   "cell_type": "code",
   "execution_count": 5,
   "metadata": {},
   "outputs": [
    {
     "data": {
      "text/html": [
       "<div>\n",
       "<style scoped>\n",
       "    .dataframe tbody tr th:only-of-type {\n",
       "        vertical-align: middle;\n",
       "    }\n",
       "\n",
       "    .dataframe tbody tr th {\n",
       "        vertical-align: top;\n",
       "    }\n",
       "\n",
       "    .dataframe thead th {\n",
       "        text-align: right;\n",
       "    }\n",
       "</style>\n",
       "<table border=\"1\" class=\"dataframe\">\n",
       "  <thead>\n",
       "    <tr style=\"text-align: right;\">\n",
       "      <th></th>\n",
       "      <th>title</th>\n",
       "      <th>selftext</th>\n",
       "      <th>subreddit</th>\n",
       "      <th>date</th>\n",
       "      <th>num_comments</th>\n",
       "      <th>score</th>\n",
       "      <th>label</th>\n",
       "    </tr>\n",
       "  </thead>\n",
       "  <tbody>\n",
       "    <tr>\n",
       "      <th>0</th>\n",
       "      <td>Yellowstone  has  some  of  the  worst  acting...</td>\n",
       "      <td>My  wife  and  I  have  been  watching  the  s...</td>\n",
       "      <td>unpopularopinion</td>\n",
       "      <td>2023-03-15  13:00:58</td>\n",
       "      <td>1</td>\n",
       "      <td>1</td>\n",
       "      <td>5</td>\n",
       "    </tr>\n",
       "    <tr>\n",
       "      <th>1</th>\n",
       "      <td>Hate  when  people  pay  for  you  then  think...</td>\n",
       "      <td>For  example  lets  say  you  go  to  a  bar  ...</td>\n",
       "      <td>unpopularopinion</td>\n",
       "      <td>2023-03-15  12:54:50</td>\n",
       "      <td>1</td>\n",
       "      <td>1</td>\n",
       "      <td>5</td>\n",
       "    </tr>\n",
       "    <tr>\n",
       "      <th>2</th>\n",
       "      <td>Wearing  a  durag  in  public  should  be  sha...</td>\n",
       "      <td>Both  durags  and  bonnets  belong  in  the  h...</td>\n",
       "      <td>unpopularopinion</td>\n",
       "      <td>2023-03-15  12:15:50</td>\n",
       "      <td>1</td>\n",
       "      <td>1</td>\n",
       "      <td>5</td>\n",
       "    </tr>\n",
       "    <tr>\n",
       "      <th>3</th>\n",
       "      <td>You  can't  blame  people  for  showing  more ...</td>\n",
       "      <td>Lots  of  people  complain  about  how  people...</td>\n",
       "      <td>unpopularopinion</td>\n",
       "      <td>2023-03-15  11:44:45</td>\n",
       "      <td>1</td>\n",
       "      <td>1</td>\n",
       "      <td>5</td>\n",
       "    </tr>\n",
       "    <tr>\n",
       "      <th>4</th>\n",
       "      <td>Brendan  Fraser  didn't  win  because  of  his...</td>\n",
       "      <td>Don't  get  me  wrong,  I  love  the  guy,  he...</td>\n",
       "      <td>unpopularopinion</td>\n",
       "      <td>2023-03-15  11:44:14</td>\n",
       "      <td>1</td>\n",
       "      <td>1</td>\n",
       "      <td>5</td>\n",
       "    </tr>\n",
       "  </tbody>\n",
       "</table>\n",
       "</div>"
      ],
      "text/plain": [
       "                                               title  \\\n",
       "0  Yellowstone  has  some  of  the  worst  acting...   \n",
       "1  Hate  when  people  pay  for  you  then  think...   \n",
       "2  Wearing  a  durag  in  public  should  be  sha...   \n",
       "3  You  can't  blame  people  for  showing  more ...   \n",
       "4  Brendan  Fraser  didn't  win  because  of  his...   \n",
       "\n",
       "                                            selftext         subreddit  \\\n",
       "0  My  wife  and  I  have  been  watching  the  s...  unpopularopinion   \n",
       "1  For  example  lets  say  you  go  to  a  bar  ...  unpopularopinion   \n",
       "2  Both  durags  and  bonnets  belong  in  the  h...  unpopularopinion   \n",
       "3  Lots  of  people  complain  about  how  people...  unpopularopinion   \n",
       "4  Don't  get  me  wrong,  I  love  the  guy,  he...  unpopularopinion   \n",
       "\n",
       "                   date  num_comments  score  label  \n",
       "0  2023-03-15  13:00:58             1      1      5  \n",
       "1  2023-03-15  12:54:50             1      1      5  \n",
       "2  2023-03-15  12:15:50             1      1      5  \n",
       "3  2023-03-15  11:44:45             1      1      5  \n",
       "4  2023-03-15  11:44:14             1      1      5  "
      ]
     },
     "execution_count": 5,
     "metadata": {},
     "output_type": "execute_result"
    }
   ],
   "source": [
    "#show first 5 rows\n",
    "df_orig.head()"
   ]
  },
  {
   "cell_type": "code",
   "execution_count": 6,
   "metadata": {},
   "outputs": [
    {
     "name": "stdout",
     "output_type": "stream",
     "text": [
      "<class 'pandas.core.frame.DataFrame'>\n",
      "RangeIndex: 69430 entries, 0 to 69429\n",
      "Data columns (total 7 columns):\n",
      " #   Column        Non-Null Count  Dtype \n",
      "---  ------        --------------  ----- \n",
      " 0   title         69430 non-null  object\n",
      " 1   selftext      69223 non-null  object\n",
      " 2   subreddit     69430 non-null  object\n",
      " 3   date          69430 non-null  object\n",
      " 4   num_comments  69430 non-null  int64 \n",
      " 5   score         69430 non-null  int64 \n",
      " 6   label         69430 non-null  int64 \n",
      "dtypes: int64(3), object(4)\n",
      "memory usage: 3.7+ MB\n"
     ]
    }
   ],
   "source": [
    "df_orig.info()"
   ]
  },
  {
   "cell_type": "code",
   "execution_count": 7,
   "metadata": {},
   "outputs": [],
   "source": [
    "#replace selftext with title if selftext is [removed], [deleted], empty,nan, or as per title\n",
    "df_orig['selftext'] = df_orig['selftext'].replace(np.nan, '', regex=True)\n",
    "df_orig['selftext'] = np.where(df_orig['selftext'].isin(['[removed]', '[deleted]', '', 'as per title']), df_orig['title'], df_orig['selftext'])"
   ]
  },
  {
   "cell_type": "code",
   "execution_count": 8,
   "metadata": {},
   "outputs": [
    {
     "data": {
      "text/plain": [
       "0    My  wife  and  I  have  been  watching  the  s...\n",
       "1    For  example  lets  say  you  go  to  a  bar  ...\n",
       "2    Both  durags  and  bonnets  belong  in  the  h...\n",
       "3    Lots  of  people  complain  about  how  people...\n",
       "4    Don't  get  me  wrong,  I  love  the  guy,  he...\n",
       "Name: selftext, dtype: object"
      ]
     },
     "execution_count": 8,
     "metadata": {},
     "output_type": "execute_result"
    }
   ],
   "source": [
    "df_orig['selftext'].head()"
   ]
  },
  {
   "cell_type": "code",
   "execution_count": 9,
   "metadata": {},
   "outputs": [
    {
     "name": "stdout",
     "output_type": "stream",
     "text": [
      "<class 'pandas.core.series.Series'>\n",
      "RangeIndex: 69430 entries, 0 to 69429\n",
      "Series name: selftext\n",
      "Non-Null Count  Dtype \n",
      "--------------  ----- \n",
      "69430 non-null  object\n",
      "dtypes: object(1)\n",
      "memory usage: 542.5+ KB\n"
     ]
    }
   ],
   "source": [
    "#Extract only rawContent column for use\n",
    "df= df_orig['selftext']\n",
    "\n",
    "df.rename(\"cleaned\")\n",
    "df.info()"
   ]
  },
  {
   "cell_type": "code",
   "execution_count": 10,
   "metadata": {},
   "outputs": [
    {
     "data": {
      "text/plain": [
       "0        My  wife  and  I  have  been  watching  the  s...\n",
       "1        For  example  lets  say  you  go  to  a  bar  ...\n",
       "2        Both  durags  and  bonnets  belong  in  the  h...\n",
       "3        Lots  of  people  complain  about  how  people...\n",
       "4        Don't  get  me  wrong,  I  love  the  guy,  he...\n",
       "                               ...                        \n",
       "69425    In  the  context  of  the  LOSC,  what  does  ...\n",
       "69426    A  friend  signed  a  handwritten  will  this ...\n",
       "69427    Over  the  summer,  a  new  company  bought  o...\n",
       "69428    Ok  so  here’s  the  story,  my  step  daughte...\n",
       "69429    Is  this  legal,  what  are  my  rights?  It’s...\n",
       "Name: selftext, Length: 69430, dtype: object"
      ]
     },
     "metadata": {},
     "output_type": "display_data"
    }
   ],
   "source": [
    "display(df)"
   ]
  },
  {
   "cell_type": "code",
   "execution_count": 11,
   "metadata": {},
   "outputs": [],
   "source": [
    "# #un-labelled data\n",
    "\n",
    "# #Apply normalizeTweet function to each row\n",
    "# df = df.apply(normalizeTweet)\n",
    "\n",
    "# #show first 5 rows of cleaned data\n",
    "# display(df.head())\n",
    "\n",
    "# #append original data for comparison\n",
    "# df = pd.concat([df_orig['selftext'],df], axis=1)\n",
    "\n",
    "# #rename columns\n",
    "# df.columns = ['originalreddit', 'cleanedreddit']\n",
    "# display(df.head())\n",
    "\n",
    "# #export to csv\n",
    "# df.to_csv('cleaned_'+ file, index=False)"
   ]
  },
  {
   "cell_type": "code",
   "execution_count": 12,
   "metadata": {},
   "outputs": [
    {
     "data": {
      "text/plain": [
       "0    my wife and i have been watching the show for ...\n",
       "1    for example lets say you go to a bar and you h...\n",
       "2    both durags and bonnets belong in the house i ...\n",
       "3    lots of people complain about how people only ...\n",
       "4    dont get me wrong i love the guy he truly seem...\n",
       "Name: selftext, dtype: object"
      ]
     },
     "metadata": {},
     "output_type": "display_data"
    },
    {
     "data": {
      "text/html": [
       "<div>\n",
       "<style scoped>\n",
       "    .dataframe tbody tr th:only-of-type {\n",
       "        vertical-align: middle;\n",
       "    }\n",
       "\n",
       "    .dataframe tbody tr th {\n",
       "        vertical-align: top;\n",
       "    }\n",
       "\n",
       "    .dataframe thead th {\n",
       "        text-align: right;\n",
       "    }\n",
       "</style>\n",
       "<table border=\"1\" class=\"dataframe\">\n",
       "  <thead>\n",
       "    <tr style=\"text-align: right;\">\n",
       "      <th></th>\n",
       "      <th>originalreddit</th>\n",
       "      <th>cleanedreddit</th>\n",
       "      <th>subreddit</th>\n",
       "      <th>label</th>\n",
       "    </tr>\n",
       "  </thead>\n",
       "  <tbody>\n",
       "    <tr>\n",
       "      <th>0</th>\n",
       "      <td>My  wife  and  I  have  been  watching  the  s...</td>\n",
       "      <td>my wife and i have been watching the show for ...</td>\n",
       "      <td>unpopularopinion</td>\n",
       "      <td>5</td>\n",
       "    </tr>\n",
       "    <tr>\n",
       "      <th>1</th>\n",
       "      <td>For  example  lets  say  you  go  to  a  bar  ...</td>\n",
       "      <td>for example lets say you go to a bar and you h...</td>\n",
       "      <td>unpopularopinion</td>\n",
       "      <td>5</td>\n",
       "    </tr>\n",
       "    <tr>\n",
       "      <th>2</th>\n",
       "      <td>Both  durags  and  bonnets  belong  in  the  h...</td>\n",
       "      <td>both durags and bonnets belong in the house i ...</td>\n",
       "      <td>unpopularopinion</td>\n",
       "      <td>5</td>\n",
       "    </tr>\n",
       "    <tr>\n",
       "      <th>3</th>\n",
       "      <td>Lots  of  people  complain  about  how  people...</td>\n",
       "      <td>lots of people complain about how people only ...</td>\n",
       "      <td>unpopularopinion</td>\n",
       "      <td>5</td>\n",
       "    </tr>\n",
       "    <tr>\n",
       "      <th>4</th>\n",
       "      <td>Don't  get  me  wrong,  I  love  the  guy,  he...</td>\n",
       "      <td>dont get me wrong i love the guy he truly seem...</td>\n",
       "      <td>unpopularopinion</td>\n",
       "      <td>5</td>\n",
       "    </tr>\n",
       "  </tbody>\n",
       "</table>\n",
       "</div>"
      ],
      "text/plain": [
       "                                      originalreddit  \\\n",
       "0  My  wife  and  I  have  been  watching  the  s...   \n",
       "1  For  example  lets  say  you  go  to  a  bar  ...   \n",
       "2  Both  durags  and  bonnets  belong  in  the  h...   \n",
       "3  Lots  of  people  complain  about  how  people...   \n",
       "4  Don't  get  me  wrong,  I  love  the  guy,  he...   \n",
       "\n",
       "                                       cleanedreddit         subreddit  label  \n",
       "0  my wife and i have been watching the show for ...  unpopularopinion      5  \n",
       "1  for example lets say you go to a bar and you h...  unpopularopinion      5  \n",
       "2  both durags and bonnets belong in the house i ...  unpopularopinion      5  \n",
       "3  lots of people complain about how people only ...  unpopularopinion      5  \n",
       "4  dont get me wrong i love the guy he truly seem...  unpopularopinion      5  "
      ]
     },
     "metadata": {},
     "output_type": "display_data"
    }
   ],
   "source": [
    "#labelled data\n",
    "\n",
    "#Apply normalizeTweet function to each row\n",
    "df = df.apply(normalizeTweet)\n",
    "\n",
    "#show first 5 rows of cleaned data\n",
    "display(df.head())\n",
    "\n",
    "#append original data for comparison\n",
    "df = pd.concat([df_orig['selftext'],df,df_orig['subreddit'],df_orig['label']], axis=1)\n",
    "\n",
    "#rename columns\n",
    "df.columns = ['originalreddit', 'cleanedreddit','subreddit', 'label']\n",
    "display(df.head())\n",
    "\n",
    "#export to csv\n",
    "df.to_csv('cleaned_'+ file, index=False)"
   ]
  },
  {
   "attachments": {},
   "cell_type": "markdown",
   "metadata": {},
   "source": [
    "General Pre-Processing Steps:\n",
    "- lowercase all\n",
    "- Remove newlines\n",
    "- Remove URLs\n",
    "- Remove punctuation (for twitter only)\n",
    "- Replace 2 or more spaces with 1 space\n",
    "- Replace all instances of 3 or more letters with 2 letters\n",
    "- Remove all instances of 3 or more repeated subsequent words (ex: \"I love love love love you\")\n",
    "- Remove html tags (don't think there is any)\n",
    "- Remove non-ascii characters\n",
    "- Handling Bullet Points or similar (lists, tables etc.)\n",
    "- Replace numbers with \\<num\\> token\n",
    "- Detect foreign language and remove the entire item\n",
    "\n",
    "\n",
    "Twitter Specific Pre-Processing Steps:\n",
    "- Remove RT\n",
    "- Remove @mentions and usernames for privacy\n",
    "- Remove hashtags (remove hashtags (both symbol and respective word) for hashtags used in querying) (keep hashtags not used for querying (remove only the hashtag symbol but keep the word))\n",
    "\n",
    "Reddit Specific Pre-Processing Steps:\n",
    "- Only keep english text (twitter data was already filtered to english, reddit wasn't)\n",
    "- Remove user mentions"
   ]
  }
 ],
 "metadata": {
  "kernelspec": {
   "display_name": "Python 3",
   "language": "python",
   "name": "python3"
  },
  "language_info": {
   "codemirror_mode": {
    "name": "ipython",
    "version": 3
   },
   "file_extension": ".py",
   "mimetype": "text/x-python",
   "name": "python",
   "nbconvert_exporter": "python",
   "pygments_lexer": "ipython3",
   "version": "3.10.6"
  },
  "vscode": {
   "interpreter": {
    "hash": "369f2c481f4da34e4445cda3fffd2e751bd1c4d706f27375911949ba6bb62e1c"
   }
  }
 },
 "nbformat": 4,
 "nbformat_minor": 2
}
