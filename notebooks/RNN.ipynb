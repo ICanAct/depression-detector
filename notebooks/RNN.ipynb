{
 "cells": [
  {
   "cell_type": "code",
   "execution_count": 1,
   "id": "632617a0-3d3e-4bad-a4ca-462ed3445968",
   "metadata": {},
   "outputs": [
    {
     "name": "stdout",
     "output_type": "stream",
     "text": [
      "Epoch 1\n",
      "train loss: 264.59188947826624\n",
      "val loss: 42.02214998006821\n",
      "[0.86816174 0.86039402 0.94385119]\n",
      "Epoch 2\n",
      "train loss: 164.41096784174442\n",
      "val loss: 41.26864381879568\n",
      "[0.87199856 0.86815416 0.9355102 ]\n",
      "Epoch 3\n",
      "train loss: 146.19035998359323\n",
      "val loss: 41.206388138234615\n",
      "[0.87626093 0.86037234 0.93411681]\n",
      "Epoch 4\n",
      "train loss: 136.99530904367566\n",
      "val loss: 35.677102729678154\n",
      "[0.8839993  0.88275862 0.95398052]\n",
      "Epoch 5\n",
      "train loss: 128.18093361705542\n",
      "val loss: 37.8855524584651\n",
      "[0.87740425 0.86705406 0.95069233]\n",
      "Epoch 6\n",
      "train loss: 120.00097509473562\n",
      "val loss: 39.08534103631973\n",
      "[0.87804878 0.86773968 0.94617564]\n",
      "Epoch 7\n",
      "train loss: 115.46188193932176\n",
      "val loss: 37.611668922007084\n",
      "[0.87338129 0.87808869 0.95515316]\n",
      "Epoch 8\n",
      "train loss: 100.41473469510674\n",
      "val loss: 41.14269768446684\n",
      "[0.87417905 0.87300223 0.95196653]\n",
      "Epoch 9\n",
      "train loss: 89.50292988494039\n",
      "val loss: 43.377297922968864\n",
      "[0.84891548 0.85870243 0.94879725]\n",
      "Epoch 10\n",
      "train loss: 77.81939489208162\n",
      "val loss: 46.88392383605242\n",
      "[0.872497   0.86067142 0.94455578]\n"
     ]
    }
   ],
   "source": [
    "import numpy as np\n",
    "import pandas as pd\n",
    "import torch\n",
    "import torch.nn as nn\n",
    "import torch.optim as optim\n",
    "\n",
    "from torch.utils.data import Dataset, DataLoader\n",
    "from torch.nn.utils.rnn import pad_sequence\n",
    "\n",
    "from sklearn.metrics import f1_score\n",
    "\n",
    "\n",
    "\n",
    "device = torch.device(\"cuda\" if torch.cuda.is_available() else \"cpu\")\n",
    "\n",
    "df = pd.read_csv(\"train.csv\", usecols=[\"cleanedreddit\", \"label\"])\n",
    "train_inputs = df[\"cleanedreddit\"].to_list()\n",
    "train_labels = df[\"label\"].to_list()\n",
    "\n",
    "df = pd.read_csv(\"val.csv\", usecols=[\"cleanedreddit\", \"label\"])\n",
    "val_inputs = df[\"cleanedreddit\"].to_list()\n",
    "val_labels = df[\"label\"].to_list()\n",
    "\n",
    "num_classes = 3\n",
    "\n",
    "\n",
    "\n",
    "unk_ind = 1\n",
    "class VocabEncoder():\n",
    "    def __init__(self, vocab):\n",
    "        self.encoder = {word : index for index, word in enumerate(vocab)}\n",
    "    \n",
    "    def __call__(self, tokens):\n",
    "        return [self.encoder[token] if self.encoder.get(token) else unk_ind for token in tokens]\n",
    "\n",
    "class CustomDataset(Dataset):\n",
    "    def __init__(self, inputs, labels, vocab_encoder, max_length):\n",
    "        self.inputs = [vocab_encoder(x.split(\" \")) for x in inputs]\n",
    "        self.inputs = [torch.tensor(x[:max_length]) for x in self.inputs]\n",
    "        self.labels = labels\n",
    "\n",
    "    def __len__(self):\n",
    "        return len(self.inputs)\n",
    "    \n",
    "    def __getitem__(self, index):\n",
    "        return self.inputs[index], self.labels[index]\n",
    "\n",
    "class RNNClassifier(nn.Module):\n",
    "    def __init__(self, output_size, hidden_size, num_layers, embedding_weights):\n",
    "        super().__init__()\n",
    "        self.encoder = nn.Sequential(\n",
    "            nn.Embedding.from_pretrained(torch.from_numpy(embedding_weights).float(), freeze=True),\n",
    "            nn.GRU(\n",
    "                input_size = 300,\n",
    "                hidden_size = hidden_size,\n",
    "                batch_first = True,\n",
    "                bidirectional = False,\n",
    "                num_layers = num_layers,\n",
    "                dropout = 0.2\n",
    "            )\n",
    "        )\n",
    "        self.flatten = nn.Flatten()\n",
    "        self.classifier = nn.Linear(hidden_size*num_layers, output_size)\n",
    "\n",
    "    def forward(self, x):\n",
    "        _, hfinal = self.encoder(x)\n",
    "        y = torch.transpose(hfinal, 0, 1)\n",
    "        y = self.flatten(y)\n",
    "        y = self.classifier(y)\n",
    "        return y\n",
    "\n",
    "    \n",
    "pad_ind = 0\n",
    "def collate_fn(batch):\n",
    "    inputs, labels = zip(*batch)\n",
    "    inputs = pad_sequence(inputs, batch_first=True, padding_value=pad_ind)\n",
    "    return inputs, torch.tensor(labels)\n",
    "\n",
    "\n",
    "vocab = np.load(\"vocab_npa.npy\", allow_pickle=True)        \n",
    "vocab_encoder = VocabEncoder(vocab)\n",
    "embedding_weights = np.load(\"embs_npa.npy\", allow_pickle=True)\n",
    "\n",
    "train_dataset = CustomDataset(train_inputs, train_labels, vocab_encoder, max_length = 100)\n",
    "train_dataloader = DataLoader(train_dataset, batch_size = 64, shuffle=True, collate_fn = collate_fn)\n",
    "\n",
    "val_dataset = CustomDataset(val_inputs, val_labels, vocab_encoder, max_length = 100)\n",
    "val_dataloader = DataLoader(val_dataset, batch_size = 64, shuffle=False, collate_fn = collate_fn)\n",
    "\n",
    "model = RNNClassifier(num_classes, hidden_size = 256, num_layers = 3, embedding_weights = embedding_weights)\n",
    "model.to(device)\n",
    "criterion = nn.CrossEntropyLoss()\n",
    "optimizer = optim.Adam(model.parameters(), lr=0.001)\n",
    "\n",
    "num_epochs = 10\n",
    "for i in range(num_epochs):\n",
    "    print(f\"Epoch {i+1}\")\n",
    "    train_loss = 0\n",
    "    val_loss = 0\n",
    "\n",
    "    model.train()\n",
    "    for inputs, labels in train_dataloader:\n",
    "        inputs = inputs.to(device)\n",
    "        labels = labels.to(device)\n",
    "        predictions = model(inputs)\n",
    "        loss = criterion(predictions, labels)\n",
    "        optimizer.zero_grad()\n",
    "        loss.backward()\n",
    "        optimizer.step()\n",
    "        train_loss += loss.item()\n",
    "    print(f\"train loss: {train_loss}\")\n",
    "\n",
    "    model.eval()\n",
    "    val_predictions = []\n",
    "    val_targets = []\n",
    "    with torch.no_grad():\n",
    "        for inputs, labels in val_dataloader:\n",
    "            inputs = inputs.to(device)\n",
    "            labels = labels.to(device)\n",
    "            predictions = model(inputs)\n",
    "            loss = criterion(predictions, labels)\n",
    "            val_loss += loss.item()\n",
    "            val_targets += labels.cpu()\n",
    "            val_predictions += predictions.cpu().argmax(dim=1)\n",
    "\n",
    "    print(f\"val loss: {val_loss}\")\n",
    "    print(f1_score(val_predictions, val_targets, average=None))\n",
    "\n",
    "\n",
    "torch.save(model.state_dict(), \"chkpt.pt\")\n"
   ]
  },
  {
   "cell_type": "code",
   "execution_count": 2,
   "id": "5a641511-c1db-4794-9f45-8804119b1c7d",
   "metadata": {},
   "outputs": [
    {
     "name": "stdout",
     "output_type": "stream",
     "text": [
      "test loss: 3.132678598165512\n",
      "[0.87837838 0.8952381  0.76190476]\n"
     ]
    }
   ],
   "source": [
    "df = pd.read_csv(\"test.csv\", usecols=[\"cleanedreddit\", \"label\"])\n",
    "test_inputs = df[\"cleanedreddit\"].to_list()\n",
    "test_labels = df[\"label\"].to_list()\n",
    "\n",
    "test_dataset = CustomDataset(test_inputs, test_labels, vocab_encoder, max_length = 100)\n",
    "test_dataloader = DataLoader(test_dataset, batch_size = 256, shuffle=False, collate_fn = collate_fn)\n",
    "\n",
    "model.eval()\n",
    "test_predictions = []\n",
    "test_targets = []\n",
    "test_loss = 0\n",
    "with torch.no_grad():\n",
    "    for inputs, labels in test_dataloader:\n",
    "        inputs = inputs.to(device)\n",
    "        labels = labels.to(device)\n",
    "        predictions = model(inputs)\n",
    "        loss = criterion(predictions, labels)\n",
    "        test_loss += loss.item()\n",
    "        test_targets += labels.cpu()\n",
    "        test_predictions += predictions.cpu().argmax(dim=1)\n",
    "\n",
    "print(f\"test loss: {test_loss}\")\n",
    "print(f1_score(test_predictions, test_targets, average=None))"
   ]
  },
  {
   "cell_type": "code",
   "execution_count": 3,
   "id": "064f026c-e4a9-4d43-855c-8b4ba7ae4fde",
   "metadata": {},
   "outputs": [],
   "source": [
    "from sklearn.metrics import classification_report, confusion_matrix\n",
    "import seaborn as sns"
   ]
  },
  {
   "cell_type": "code",
   "execution_count": 4,
   "id": "8c129d16-ed4a-40b5-a766-7460087ea21d",
   "metadata": {},
   "outputs": [
    {
     "name": "stdout",
     "output_type": "stream",
     "text": [
      "              precision    recall  f1-score   support\n",
      "\n",
      "           0     0.7992    0.9750    0.8784       200\n",
      "           1     0.8545    0.9400    0.8952       200\n",
      "           2     0.9412    0.6400    0.7619       200\n",
      "\n",
      "    accuracy                         0.8517       600\n",
      "   macro avg     0.8650    0.8517    0.8452       600\n",
      "weighted avg     0.8650    0.8517    0.8452       600\n",
      "\n"
     ]
    }
   ],
   "source": [
    "print(classification_report(test_targets, test_predictions, digits=4))"
   ]
  },
  {
   "cell_type": "code",
   "execution_count": 5,
   "id": "146d7940-c983-44fa-935e-c51e4bb8291c",
   "metadata": {},
   "outputs": [
    {
     "data": {
      "text/plain": [
       "Text(33.0, 0.5, 'True Label')"
      ]
     },
     "execution_count": 5,
     "metadata": {},
     "output_type": "execute_result"
    },
    {
     "data": {
      "image/png": "[encoded data removed]",
      "text/plain": [
       "<Figure size 432x288 with 2 Axes>"
      ]
     },
     "metadata": {
      "needs_background": "light"
     },
     "output_type": "display_data"
    }
   ],
   "source": [
    "s = sns.heatmap(confusion_matrix(test_targets, test_predictions, normalize=\"true\"), annot=True)\n",
    "s.set_xlabel('Predicted Label', fontsize=10)\n",
    "s.set_ylabel('True Label', fontsize=10)"
   ]
  },
  {
   "cell_type": "code",
   "execution_count": 6,
   "id": "5ad2862d-eb64-459c-8856-fe9a3130f989",
   "metadata": {},
   "outputs": [
    {
     "name": "stdout",
     "output_type": "stream",
     "text": [
      "test loss: 9.556843340396881\n",
      "[0.92574257 0.97029703 0.92857143]\n"
     ]
    }
   ],
   "source": [
    "df = pd.read_csv(\"twitter_test.csv\", usecols=[\"cleanedtweet\", \"label\"])\n",
    "test_inputs = df[\"cleanedtweet\"].to_list()\n",
    "test_labels = df[\"label\"].to_list()\n",
    "\n",
    "test_dataset = CustomDataset(test_inputs, test_labels, vocab_encoder, max_length = 100)\n",
    "test_dataloader = DataLoader(test_dataset, batch_size = 256, shuffle=False, collate_fn = collate_fn)\n",
    "\n",
    "model.eval()\n",
    "test_predictions = []\n",
    "test_targets = []\n",
    "test_loss = 0\n",
    "with torch.no_grad():\n",
    "    for inputs, labels in test_dataloader:\n",
    "        inputs = inputs.to(device)\n",
    "        labels = labels.to(device)\n",
    "        predictions = model(inputs)\n",
    "        loss = criterion(predictions, labels)\n",
    "        test_loss += loss.item()\n",
    "        test_targets += labels.cpu()\n",
    "        test_predictions += predictions.cpu().argmax(dim=1)\n",
    "\n",
    "print(f\"test loss: {(test_loss/len(test_dataset))*10000}\")\n",
    "print(f1_score(test_predictions, test_targets, average=None))"
   ]
  },
  {
   "cell_type": "code",
   "execution_count": 7,
   "id": "c43b2b3d-a05b-4283-b37c-59699c2cbe8c",
   "metadata": {},
   "outputs": [
    {
     "name": "stdout",
     "output_type": "stream",
     "text": [
      "              precision    recall  f1-score   support\n",
      "\n",
      "           0     0.9167    0.9350    0.9257       200\n",
      "           1     0.9608    0.9800    0.9703       200\n",
      "           2     0.9479    0.9100    0.9286       200\n",
      "\n",
      "    accuracy                         0.9417       600\n",
      "   macro avg     0.9418    0.9417    0.9415       600\n",
      "weighted avg     0.9418    0.9417    0.9415       600\n",
      "\n"
     ]
    }
   ],
   "source": [
    "print(classification_report(test_targets, test_predictions, digits=4))"
   ]
  },
  {
   "cell_type": "code",
   "execution_count": 8,
   "id": "6f07585b-d7b0-49e6-a277-37e2b6347a77",
   "metadata": {},
   "outputs": [
    {
     "data": {
      "text/plain": [
       "Text(33.0, 0.5, 'True Label')"
      ]
     },
     "execution_count": 8,
     "metadata": {},
     "output_type": "execute_result"
    },
    {
     "data": {
      "image/png": "[encoded data removed]",
      "text/plain": [
       "<Figure size 432x288 with 2 Axes>"
      ]
     },
     "metadata": {
      "needs_background": "light"
     },
     "output_type": "display_data"
    }
   ],
   "source": [
    "s = sns.heatmap(confusion_matrix(test_targets, test_predictions, normalize=\"true\"), annot=True)\n",
    "s.set_xlabel('Predicted Label', fontsize=10)\n",
    "s.set_ylabel('True Label', fontsize=10)"
   ]
  },
  {
   "cell_type": "code",
   "execution_count": 9,
   "id": "466d1ce3-c0d3-4a27-a3ba-2436cd0ea939",
   "metadata": {},
   "outputs": [],
   "source": [
    "df = pd.read_csv(\"train.csv\", usecols=[\"cleanedreddit\", \"label\"])\n",
    "df.loc[df[\"label\"] == 0, \"label\"] = \"Anxiety\"\n",
    "df.loc[df[\"label\"] == 1, \"label\"] = \"Depression\"\n",
    "df.loc[df[\"label\"] == 2, \"label\"] = \"Neutral\""
   ]
  },
  {
   "cell_type": "code",
   "execution_count": 10,
   "id": "d5b5a44f-7d66-42cd-ba35-1532eb2c10a4",
   "metadata": {},
   "outputs": [
    {
     "data": {
      "text/plain": [
       "Neutral       11720\n",
       "Depression    11720\n",
       "Anxiety       11720\n",
       "Name: label, dtype: int64"
      ]
     },
     "execution_count": 10,
     "metadata": {},
     "output_type": "execute_result"
    }
   ],
   "source": [
    "df[\"label\"].value_counts()"
   ]
  },
  {
   "cell_type": "code",
   "execution_count": 11,
   "id": "d908231c-6f2b-4821-8396-51b46dcc4469",
   "metadata": {},
   "outputs": [
    {
     "data": {
      "image/png": "[encoded data removed]",
      "text/plain": [
       "<Figure size 4320x360 with 1 Axes>"
      ]
     },
     "metadata": {},
     "output_type": "display_data"
    }
   ],
   "source": [
    "import matplotlib.pyplot as plt\n",
    "kwargs = dict(\n",
    "    startangle = 90,\n",
    "    fontsize   = 13,\n",
    "    figsize    = (60,5),\n",
    "    autopct    = '%1.1f%%',\n",
    "    label      = ''\n",
    ")\n",
    "\n",
    "ax = df['label'].value_counts().plot(kind=\"pie\", **kwargs, title = \"Class Distribution\")"
   ]
  },
  {
   "cell_type": "code",
   "execution_count": null,
   "id": "9c653282-d893-48a9-8a1e-8795aa790ec6",
   "metadata": {},
   "outputs": [],
   "source": []
  }
 ],
 "metadata": {
  "kernelspec": {
   "display_name": "Python 3 (ipykernel)",
   "language": "python",
   "name": "python3"
  },
  "language_info": {
   "codemirror_mode": {
    "name": "ipython",
    "version": 3
   },
   "file_extension": ".py",
   "mimetype": "text/x-python",
   "name": "python",
   "nbconvert_exporter": "python",
   "pygments_lexer": "ipython3",
   "version": "3.9.12"
  }
 },
 "nbformat": 4,
 "nbformat_minor": 5
}
