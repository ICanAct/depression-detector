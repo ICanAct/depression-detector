{
 "cells": [
  {
   "cell_type": "code",
   "execution_count": 11,
   "metadata": {},
   "outputs": [],
   "source": [
    "#Scraping based on this tutorial - https://rareloot.medium.com/using-pushshifts-api-to-extract-reddit-submissions-fb517b286563\n",
    "import pandas as pd\n",
    "import time\n",
    "import datetime\n",
    "import requests\n",
    "import json\n",
    "import time\n",
    "import csv"
   ]
  },
  {
   "cell_type": "code",
   "execution_count": 12,
   "metadata": {},
   "outputs": [],
   "source": [
    "#Using Pushshift's API to extract Reddit submissions -> this function builds a URL to query the API\n",
    "#\n",
    "#\n",
    "#Parameters explained:\n",
    "#subreddit = the subreddit you want to extract data from\n",
    "#start_date = 4 and end_date = 2 means that the data will be extracted from 4 days ago to 2 days ago\n",
    "#amount_posts = the amount of posts you want to extract -> can be max 1000\n",
    "#\n",
    "#\n",
    "\n",
    "amount_posts = 999\n",
    "\n",
    "def query_URL(subreddit, start_date, end_date, amount_posts):\n",
    "    #Build the URL\n",
    "    pushshift_url = \"http://api.pushshift.io/reddit/search/submission?subreddit=\"+subreddit+\"&after=\"+str(start_date)+\"d&before=\"+str(end_date)+\"d&size=\"+str(amount_posts)\n",
    "    return pushshift_url\n",
    "\n",
    "#Using Pushshift's API to extract Reddit submissions -> this function extracts the data from the URL\n",
    "def get_data(url):\n",
    "    #Get the data\n",
    "    r = requests.get(url)\n",
    "    data = json.loads(r.text)\n",
    "    return data['data']\n"
   ]
  },
  {
   "cell_type": "code",
   "execution_count": 13,
   "metadata": {},
   "outputs": [],
   "source": [
    "#queried these subreddits to get neutral data\n",
    "subreddits = ['unpopularopinion','IWantToLearn', 'tifu', 'legaladvice']\n",
    "labels = {'unpopularopinion': 5, 'IWantToLearn': 5, 'tifu': 5, 'legaladvice': 5 } #label of 5 means neutral"
   ]
  },
  {
   "cell_type": "code",
   "execution_count": 14,
   "metadata": {},
   "outputs": [],
   "source": [
    "#function to query the past 100 days in intervals of 1 day\n",
    "def query_subreddit(subreddit):\n",
    "    all_data = []\n",
    "    for i in range(1,102):\n",
    "        start_date = i+1\n",
    "        end_date = i\n",
    "        url = query_URL(subreddit, start_date, end_date, amount_posts)\n",
    "        data = get_data(url)\n",
    "        for post in data:\n",
    "            all_data.append([post['title'], post['selftext'], post['subreddit'], post['utc_datetime_str'], post['num_comments'], post['score'], labels[subreddit]])\n",
    "        \n",
    "    #convert to dataframe\n",
    "    df = pd.DataFrame(all_data, columns = ['title', 'selftext', 'subreddit', 'date', 'num_comments', 'score', 'label'])\n",
    "\n",
    "    #convert date to datetime\n",
    "    df['date'] = pd.to_datetime(df['date'])\n",
    "\n",
    "    #deal with \"need to escape, but no escapechar set\" error\n",
    "    df['selftext'] = df['selftext'].str.replace('\\n', '')\n",
    "    df['title'] = df['title'].str.replace('\\n', '')\n",
    "    df['selftext'] = df['selftext'].str.replace('\\r', '')\n",
    "    df['title'] = df['title'].str.replace('\\r', '')\n",
    "    df['selftext'] = df['selftext'].str.replace('\\t', '')\n",
    "    df['title'] = df['title'].str.replace('\\t', '')\n",
    "    df['selftext'] = df['selftext'].str.replace('|', '')\n",
    "    df['title'] = df['title'].str.replace('|', '')\n",
    "\n",
    "    #save to csv - no clue why i need escapechar, it errors otherwise\n",
    "    df.to_csv('reddit_{}.csv'.format(subreddit), index = False, escapechar=' ')"
   ]
  },
  {
   "cell_type": "code",
   "execution_count": 15,
   "metadata": {},
   "outputs": [
    {
     "name": "stderr",
     "output_type": "stream",
     "text": [
      "C:\\Users\\faisa\\AppData\\Local\\Temp\\ipykernel_6440\\1185439470.py:25: FutureWarning: The default value of regex will change from True to False in a future version. In addition, single character regular expressions will *not* be treated as literal strings when regex=True.\n",
      "  df['selftext'] = df['selftext'].str.replace('|', '')\n",
      "C:\\Users\\faisa\\AppData\\Local\\Temp\\ipykernel_6440\\1185439470.py:26: FutureWarning: The default value of regex will change from True to False in a future version. In addition, single character regular expressions will *not* be treated as literal strings when regex=True.\n",
      "  df['title'] = df['title'].str.replace('|', '')\n"
     ]
    },
    {
     "name": "stdout",
     "output_type": "stream",
     "text": [
      "Done: tifu\n"
     ]
    },
    {
     "name": "stderr",
     "output_type": "stream",
     "text": [
      "C:\\Users\\faisa\\AppData\\Local\\Temp\\ipykernel_6440\\1185439470.py:25: FutureWarning: The default value of regex will change from True to False in a future version. In addition, single character regular expressions will *not* be treated as literal strings when regex=True.\n",
      "  df['selftext'] = df['selftext'].str.replace('|', '')\n",
      "C:\\Users\\faisa\\AppData\\Local\\Temp\\ipykernel_6440\\1185439470.py:26: FutureWarning: The default value of regex will change from True to False in a future version. In addition, single character regular expressions will *not* be treated as literal strings when regex=True.\n",
      "  df['title'] = df['title'].str.replace('|', '')\n"
     ]
    },
    {
     "name": "stdout",
     "output_type": "stream",
     "text": [
      "Done: legaladvice\n"
     ]
    }
   ],
   "source": [
    "for subreddit in subreddits:\n",
    "    query_subreddit(subreddit)\n",
    "    print('Done: ' + subreddit)"
   ]
  },
  {
   "cell_type": "code",
   "execution_count": 16,
   "metadata": {},
   "outputs": [
    {
     "name": "stdout",
     "output_type": "stream",
     "text": [
      "16144\n",
      "1098\n",
      "3763\n",
      "48425\n"
     ]
    }
   ],
   "source": [
    "#reach each reddit csv file and take out the rows where the selftext is empty or equal to [removed]\n",
    "for subreddit in subreddits:\n",
    "    df = pd.read_csv('reddit_{}.csv'.format(subreddit))\n",
    "    df = df[df.selftext != '[removed]']\n",
    "    df = df[df.selftext != '']\n",
    "    df.to_csv('reddit_{}.csv'.format(subreddit), index = False)\n",
    "\n",
    "#print length of each csv file\n",
    "for subreddit in subreddits:\n",
    "    df = pd.read_csv('reddit_{}.csv'.format(subreddit))\n",
    "    print(len(df))"
   ]
  },
  {
   "cell_type": "code",
   "execution_count": 17,
   "metadata": {},
   "outputs": [
    {
     "name": "stdout",
     "output_type": "stream",
     "text": [
      "16144\n",
      "16144\n",
      "\n",
      "1098\n",
      "1098\n",
      "\n",
      "3763\n",
      "3763\n",
      "\n",
      "48425\n",
      "48425\n",
      "\n"
     ]
    }
   ],
   "source": [
    "#checking there are no duplicate posts\n",
    "def read_csv(subreddit):\n",
    "    df = pd.read_csv('reddit_{}.csv'.format(subreddit))\n",
    "    print(len(df))\n",
    "    df.drop_duplicates()\n",
    "    print(len(df))\n",
    "    print('')\n",
    "    return df\n",
    "\n",
    "for subreddit in subreddits:\n",
    "    read_csv(subreddit)"
   ]
  },
  {
   "cell_type": "code",
   "execution_count": null,
   "metadata": {},
   "outputs": [],
   "source": [
    "#save all csv files into one csv file\n",
    "df = pd.concat([pd.read_csv('reddit_{}.csv'.format(subreddit)) for subreddit in subreddits])\n",
    "df.to_csv('reddit_neutral_all.csv', index = False)\n",
    "\n",
    "print(len(df))"
   ]
  }
 ],
 "metadata": {
  "kernelspec": {
   "display_name": "Python 3",
   "language": "python",
   "name": "python3"
  },
  "language_info": {
   "codemirror_mode": {
    "name": "ipython",
    "version": 3
   },
   "file_extension": ".py",
   "mimetype": "text/x-python",
   "name": "python",
   "nbconvert_exporter": "python",
   "pygments_lexer": "ipython3",
   "version": "3.10.5"
  },
  "orig_nbformat": 4,
  "vscode": {
   "interpreter": {
    "hash": "26de051ba29f2982a8de78e945f0abaf191376122a1563185a90213a26c5da77"
   }
  }
 },
 "nbformat": 4,
 "nbformat_minor": 2
}
